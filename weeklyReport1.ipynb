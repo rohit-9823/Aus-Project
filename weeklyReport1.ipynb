{
  "nbformat": 4,
  "nbformat_minor": 0,
  "metadata": {
    "colab": {
      "provenance": [],
      "collapsed_sections": [
        "kdy1KxWuh0a-",
        "zLHz5JAZh7o3",
        "tkWzpH8QiWBX",
        "oW_9F1VdjZR_",
        "h77fWNBzj6YQ",
        "ZP14wNPZi_mv",
        "jVhHvYLErz7f"
      ],
      "authorship_tag": "ABX9TyOCP2YL88pivtHUYR3UasTD",
      "include_colab_link": true
    },
    "kernelspec": {
      "name": "python3",
      "display_name": "Python 3"
    },
    "language_info": {
      "name": "python"
    }
  },
  "cells": [
    {
      "cell_type": "markdown",
      "metadata": {
        "id": "view-in-github",
        "colab_type": "text"
      },
      "source": [
        "<a href=\"https://colab.research.google.com/github/rohit-9823/Aus-Project/blob/main/weeklyReport1.ipynb\" target=\"_parent\"><img src=\"https://colab.research.google.com/assets/colab-badge.svg\" alt=\"Open In Colab\"/></a>"
      ]
    },
    {
      "cell_type": "markdown",
      "source": [
        "# Question number 1\n"
      ],
      "metadata": {
        "id": "kdy1KxWuh0a-"
      }
    },
    {
      "cell_type": "markdown",
      "source": [
        "## Summary"
      ],
      "metadata": {
        "id": "zLHz5JAZh7o3"
      }
    },
    {
      "cell_type": "markdown",
      "source": [
        "In this python script we have defined a function f(x) and compute its derivative by using PyTorch’s autograd feature. After that we manually calculate the second derivative of function to compare with previous value."
      ],
      "metadata": {
        "id": "H97j0GAsiGgM"
      }
    },
    {
      "cell_type": "markdown",
      "source": [
        "## Theory\n"
      ],
      "metadata": {
        "id": "tkWzpH8QiWBX"
      }
    },
    {
      "cell_type": "markdown",
      "source": [
        "Explanation:\n",
        "1.\tFirst of all we have import the torch library for numerical computations by tenors.\n",
        "2.\tThen, we create function f(x) to represent the mathematical statement 5𝑥3 + 2𝑥 + 7.\n",
        "3.\tFor the value of x, we define three values. They are x: -1, 0, and 1.\n",
        "4.\tIterate each value of x in x values.\n",
        "\n",
        "  a.\tThe loop creates a PyTorch tensor x_value from the current value of x, with requires grad=True to track gradients.\n",
        "\n",
        "  b.\tAfter that by using stated function, we get y=f(x).\n",
        "\n",
        "  c.\tThen, we calculate the gradient of y with respect to x by using y.backward ().\n",
        "  \n",
        "  d.\tLastly we print the derivative value at the current x value.\n",
        "5.\tAfter the loop, we manually compute the second derivative for each value of  in x_values and then print the results.\n",
        "\n",
        "Note: The second derivative of the function f(x)=5x3+2x+7 is f′′(x)=15x2+2.\n"
      ],
      "metadata": {
        "id": "DAxV45kOiZbS"
      }
    },
    {
      "cell_type": "markdown",
      "source": [
        "## Code"
      ],
      "metadata": {
        "id": "oW_9F1VdjZR_"
      }
    },
    {
      "cell_type": "code",
      "source": [
        "# Summary of Work:\n",
        "# This script computes the first and second derivatives of a given function f(x) = 5x^3 + 2x + 7 at specific x values.\n",
        "# It utilizes PyTorch for automatic differentiation to compute the first derivative and calculates the second derivative manually.\n",
        "# Findings and results are printed for comparison.\n",
        "\n",
        "import torch\n",
        "\n",
        "# Define the function f(x)\n",
        "def f(x):\n",
        "    return 5 * x ** 3 + 2 * x + 7\n",
        "\n",
        "# Specify x values\n",
        "x_values = [-1, 0, 1]\n",
        "\n",
        "# Compute and print first derivatives using PyTorch autograd\n",
        "for i in range(len(x_values)):\n",
        "    x_value = torch.tensor([x_values[i]], dtype=torch.float32, requires_grad=True)\n",
        "    y = f(x_value)\n",
        "    y.backward()\n",
        "    print(f\"Derivative value when x = {x_value.item()} is: \", x_value.grad.item())\n",
        "\n",
        "# Compute and print second derivatives manually\n",
        "for i2 in x_values:\n",
        "    second_derivative = 15 * i2 ** 2 + 2\n",
        "    print(f\"Second derivative for x = {i2}: \", second_derivative)\n"
      ],
      "metadata": {
        "colab": {
          "base_uri": "https://localhost:8080/"
        },
        "id": "APTWfgLkjcLz",
        "outputId": "5acfa1c2-64fd-49f7-e040-9a80457be371"
      },
      "execution_count": null,
      "outputs": [
        {
          "output_type": "stream",
          "name": "stdout",
          "text": [
            "Derivative value when x = -1.0 is:  17.0\n",
            "Derivative value when x = 0.0 is:  2.0\n",
            "Derivative value when x = 1.0 is:  17.0\n",
            "Second derivative for x = -1:  17\n",
            "Second derivative for x = 0:  2\n",
            "Second derivative for x = 1:  17\n"
          ]
        }
      ]
    },
    {
      "cell_type": "markdown",
      "source": [
        "## Output\n"
      ],
      "metadata": {
        "id": "h77fWNBzj6YQ"
      }
    },
    {
      "cell_type": "markdown",
      "source": [
        "![image.png](data:image/png;base64,iVBORw0KGgoAAAANSUhEUgAAAbQAAACiCAYAAAApzDh0AAAgAElEQVR4Ae1d0ZHjOg58MV1d3W1WW5fIbBY7ITiGKX9PPL4iAZAgCFCULcm2pj+mZEsUCDQaaEr2yP/8+vXrhj9gAA6AA+AAOPDuHPjn3QOA/yhCcAAcAAfAgcQBCBquUHGFDg6AA+DAKTgAQQORT0FkrNCxQgcHwAEIGgQNggYOgAPgwCk4AEEDkU9BZKzOsToHB8ABCBoEDYIGDoAD4MApOABBA5FPQWSszrE6BwfAAQgaBA2CBg6AA+DAKTgAQQORT0FkrM6xOgcHwAEIGgQNggYOgAPgwCk4AEEDkU9BZKzOsToHB8ABCBoEDYIGDoAD4MApOHA+Qfvf5+36/X37/r7cPl6MpB+X5Nf37fr39ynI066If98+vyi+FOP39/X2+b93WjF+3C6nzc075eE5vp67Np+DadsfjvEBgvaw6M03wh9TNH8uELSHeXVMA3hG03nFOX9MbZ6cl7sImpCDVuqyan+3FftsQ5kXtFcs5F18gqCd8Ap8th4G48rdk8d7ge0x57zrMcDSClOuudRr+ztTFqst+vLvv9d8t6nYuny8BOf3E7Svz9tvBboAcD7iQdA6UYSgvURxd3lR9XjsMb4d/fV5+8iN8BFBk1vbqnFzMz9fb5kRNOo/35ePGwmXwmUh33m86dMzvKB5VA5lofIConaYoCWgOiAy4JyQ/LmLt8JgAiewBDge2xDYHPv2EsXEv/zpidKTQQpHrjDbz75EoMsKpfhP47VvZLva6eevBa8XAZlcHJe29+vXEmZ9fB1RXbt0HsWmCJvyVFaAEsegcAaCRrbtucGiwM65umAUd7ziZgwoH9WHNrfW14SR5YbBSrjucLbP/VKuJNd2jmj/kr3jjyf+C39dbnm5ifYF3PJ5tRzrcm1WG3asxBTVVhKZ7lgU1137iYfCKfLP42uNofgzqP8yxvOpqRllN8jL0JZn/8F9hwqaCFIhggNqnxTdPFRRc7OTZGrgsg1P0EQIOqLVZiZ2Pi5qrgQyz1d8L8D354qNbhuR4devW1ToXaFOYaaIVvy0+xjXDiferzFKc+r3paEHxTMgdxdP9q/HsMeDG3jjh42pfx9z4RcvkCTPbD8tTAomDhYOh3pfZfGWxL9i5I3rOOLli3OuGyTVifjexz1l15tr5313Y8B++fmsufP6wRQWg9pM5xPeNZe0z8efYmxzP+XDg9h7PkbzrhmrbVBsLQ56gdf3x2O5+RRBk8IckbMCI4JmQeyboADv2yVg3UQOGrDYLEkrzU4SFftRz+Wxo6LhYzXudE7fUP3YVvigisZtLiMf1bki8G4DGeDpF4T1375n/AZ2O6zZ1zxfyZmxm+0Jr+hYFTOa0/pr39O8QZ7sNz1nsdU4y+vs6/ct461fy/HJLfkvV9l26zfoCNt79tP8987T4yyL5Msfk9tJPEoMw9w4847ssy3pc2WO0TkbHHN7m2eX/Wt7DdeYN17t6/uP4P5B33JeueDcGptjBa1Z3QoQ9ivsljz8vjSlZeB70NU5DnGH44fJTHajONScYsOZWye086MbH81lMXPmFh+abW/Pb9iOvc43NWYgPL5940d0/mjOJi7rC4sWny+i1fpifGB77ZgYZ5s7+z7n+R7/VVzZptzafnLj0Lxd85rw3EbQ2tz4+Zv2bSE3BfsXxp18lAWaqgHFoYTH7DgPu3yu9OKmTuPa8Ozste9YQZOGkkghr6VA7bYQZ2NB6656qBC6K43IP0lmIcmKQlooGrrqqcWeC1bPF/kk2BXMYjJbIjUEZWy8lRsVgV3R8xVDwYLnbYje+tI2ITnWYkhj+rnk88ouV3Z+/T5jRpgmu9e/n7cL3wZs8W19EJxaf2mM+NFtVa5aXDnOpfxrv93XMv9y0xL/d9+6nIz9Izwrx9f5V5tmj6+fv2n7E7kh3ysvvTqZns/Nr9TDfVuq0Rj77BvHea/vgjt9uUfPVXPzTAyOFbTc6KQJzhJwa0GTz6s4GdknnRj5bOX7Zm8ZSDLbL27MxlHtxg1Z26K4W+Lp4/eRviObFp9M9r7ZUKGY/aMGoG2awm0FQmIwcQ3O7/w39rvjyk/6XJRwTTnIcZVFgPGB7bb+zhetyxXlS+fnUhyyEPu63C7pH9iVeK6xZZtyK8omx4s+Sf7mtzT//fMQF/valAVyXFsLPq7KDfPgxf4Rn7AxvczkcGbMiE+FPx3//PoZ2drj2IGCJiQQwGebA4/rAIwJ6jaTJrEEft/UyGZUdL7d2ThmBI3FNsWaC8wW/oq5mnhjrORzuiScOe4OZ8LKivuwgQwEibAVDrBfeXz9JtzQ9nRcErPkOm1p3uwDf825LhhoXH2vuVD99Tkgc9WtO25V06y2UuE3nLR4rcaktb1HY4lsNnFEfnN8rmgH3HJ5Fdn39q/OzaAW2VZXM968G+7LnFNfQupywH5ZjnfjRvhHOAV56WxvGK9n+yBB4+R/y9UZFxQDNwaYz+0abVyUbjMxQOYxl8vtYj+4T+M6v6r/XpERkaz4OP5FZNC+5THX2+Vy7a4QcwI735x5tL2J17kZ8Mq/X+FK7LWpCz5pdd+PF/wCPNj/ch6/T7Y0D6YxXYxP/Feres5D6/+coInYLjUrl4Mz+fficXK+HT6P88drLNG+GUGj2NKtPY9DTj+wnPIwXNo3zM3H7WL7D4/XnJWYKcbkv6qZpfk3OE64xXMuHRf/x/g7n8ENsBCbR233EzT5XEe25daOKSAGI7714RDYSX4lUb3HLTY90pWmbInKtq29cjXnjldNk+Otc1KjFF/arUe+aqs0fRvvImYGY3u+fV/sef4kWyaGhAGfU3wsNnr87SKgxTbNSTFXzMj/dhzbdfEfxysFWnyV23dNw5wUtIydwYNzXu1z0VtfLWY2D977gqvNjfjgNf0xHkc1F5nHzaP0BYtRwkAWOd6xjFGtEaknjb3Mu7wVDB3OWjEqeahjwzllbNTzvDzfuU+4LTg0Wz3/Gp8W8RdRq1jY2l3Gfh+O7iJozwoG8+5DEuAKXMEBcOAdOABBu3Nl9A7JhY9oQuAAOPCTOABBg6Dt/HgeNJSf1FAQK/j+TA5A0CBoEDRwABwAB07BAQgaiHwKIj9zVYi5cVUCDrwGByBoEDQIGjgADoADp+AABA1EPgWRsUJ+jRUy8oA8PJMDEDQIGgQNHAAHwIFTcACCBiKfgsjPXBViblyVgAOvwYHzCZr8R7z9T/8XEC75r/5X+a/6bYvQPr3h9Z9g0cbvPymkHfMaRQufVuThhfsB8rgij5P9G4I2CVRMvvlGeG5BU+TMj86BoMWcUVg9zD/YGuIMQftRd2B2ETRp3M1zxZrn5p2pCOcFbVh4Z2psELQf1US6ZzXqZwiu5XURIHlOoH2G5Zl6xziWDtfw2ZZjO9J3bF8+452i/QTNgC/JOR+IEDQpmLKFoP0YQaMmqa7GRZDuETV+KG7tEXIb++eJWu6XTQ+lPmMf9F1qbrhwcHDssJ4Txbn5nmfrMEFLQHTkz0ngRMnTt7vPvjgZqUCkWLon2tffGitXhQ0ZGGBOoveUbPJNF46QQFaK7c+biECX+Yr/NL4WpcRd7fTz81yezxyzttc9/b7DbIJQrl06j2JTTSrlibGr8WqszHx5rDmfC45s23ODRYGdc3WTVNzxCp4xoHxUH9rcWl9TrJYbfayZTw5n+9wb7Do/pT7sHNH+JXsbHm/wU3YH+Y8bYpSrmpf4XDW34Me+Fb56tdVwstbn6KeB/B7mzC9+bLh163LGfpAPvxaPiWVVLmdi5DGHCpoIUmnOTlMdC4sqam52XoPINlwCcxPoGmNfNPTrxiq5PF/xvYDcnxsmK2oA9gcci235YUfVVKcwU34rW61fkYg6jSXN2WAmDV35pecJCijN7xdRj2FfvFHuxrHGXJBFkHCK7aeFSeGOg4X8lI7Co/dVL2IqRt64NidBLJxz3Wif2VjFZz+Xwo12ASjnhNugNmgOnZMAI80/83rEAS8naZ/XV/RCsu8D6/0KsTD+yzjPVzk22vrxV777se4fz8jne489RdCkMEdAV8JIgdTGQMH2TVBA8O1SgvIxe0UzaMBis6zKS7OThMd+1HN5bFC0eRwfq3Gnc/qG6se2wgdVLG6BjHxU58oVm1sMAzxpzqVcBvEM7HZYs695vpIzYzfbE1/oWBUzypn1176neYM82c+NZ7HVOMvr7Cv/oKp+Lccnt+S/uhpp7iyIuAu3x9uei4Lvx+3zS/2g6oxvTm7F/sff60M/lil2fjt+jI55nMrjbV4du965j+6juYWv49zUuXpuyoXF5Y/k6/dpbpEfK2jN6jYC0yaA35emtJzIIUmdpjIcr8jqj4vicPx05q7E41W9jrMbH81lMXPmVnHUOXt7fsN27HW+qTFOc5I5ffvGj+j80ZxufHKrlJsAny+i1fpifGB77ZgYZ8sN+z7Hf4//Kq5sUwRIXSEKtkdvmxibnMU4hT4257e5aHOgeKawCe3KRx26rtR5ZPuxK8DR3Jsdy/isXCTkONtctFi2OG/mq8L3aJvHCpo0lFSM8loK1G5LwXJCAkJ6gDWF1oHbJlhuI3RXGpF/nR8rSLHU0Jqi5ttzer7IJ8GuYDZf9C1WhE17lUi2mmYq833zFYPF2MShc9QWlPjZYliajJqnfBYSzWl9kPcZM7rySHavfz9vF75Cz/MUfFsfxOfWXxqjfWleF1vO4iT5s5R/8TncyvxrV+mC87Zb4U5/BWVrbGJe4cyfz9vV5LjNwYQtg5/46V2h5TyLWAjf7qgj4csuW/FP8Wt+npqLHgef8/O21+dib9vHChonhsRjFkxOyIpk9olrgW8KJPtkGoQIhyG2b3c2jpmGpm154qKPtzHdTZQcP99qUs1f28tx29sso+asbZrm0mBfjpm4Budrv6ZeKz/pc1HCNXEwx1VybHxg31p/a3NYmtvlivJl6fz+uNTB5XZJt/NW1IO2RfFsc8ux2Op88bHUfnSvGZtvy7OFK6zOTuFUrQ83F864ZIu4fs+VUJ1vxqfpMQUX06MC/z27YUwP8XGneFfE5cV6oKBxQZbPr2abgxTy5y1cYRkQlglMBdc3NUoSFWr/eYJvdzaOGUFTV2WZbNaHFXMZTLzk0z6yma7KctxBc5LPPYudUTEMBImwNcWZx6svEYxsT8clBSe5TluaN/tw+cjNq16N+k3Y+utzQOaqW3fcA3GRH8wHi9dqTKqfJZ/32IjiifLP479LD9B+RNz287LGbzcXg3hH4/MxR3TX+DM9doiXxk5urQcLnSAfltvTfg2we7aNgwSNyWpuJcgXC2pTMUnKwPG5XaP1xtK+ESEF8DzmcrldPHJ2DaP6762Mp0keNQBNkDzmertcrrdORNK4zrcYB4l1aZuJ/UUr/+7Wq3wxRTch9iHdbuvHi49WjNlPPrecp2xpHkxjqrFzX6vcydVYaRTaf79xdkUv54otd86Nbzk6Od8On8f4Q36oBQrjo3Mp/CMs6eqw5F/jZ7kh3FtR+zKX3mYfXRuJG8r37AvxwK09+Q7At1p8af+3fC0803U3sE95SNh6def00A7rx3ig8X7m6/0ETe5HyzZqACVx+jaIToqTDCexuliazzUi8kkjdYkuXy+vPqUCHBdGHZvmrwXNBSI4NFtbTIlUtQG7RZ9iX8RsJTmLPc+fZMvEkDDjc4qPxUaLQ86FwbjNVZqTYq6Ykf/tOLZrbM0UjxR78bVgrHk2KWiZewYPzmm1H3DFYubwuIun4GpzIz7oGFbmfWb+iTGCr9SdzWOJKYxF+S11KXVyR77TfC532Gbrn+BYedseV76VW5L7Y24xFWy9esr4Cm4hXrWviC3N15KjiXy/8thdBO2VA4ZvbYECD+ABDoADZ+EABO3NVyRnISLiQFMFB8CBRzkAQYOgneafKh8tBpyPhgoOvDcHIGgQNAgaOAAOgAOn4AAEDUQ+BZGxsn7vlTXyh/xtwQEIGgQNggYOgAPgwCk4AEEDkU9B5C1Wd7CBqwRw4L05AEGDoEHQwAFwABw4BQfOJ2gz/7z5JPLKP0uO/nHzfVeI9h839//n022x8v+xets53nv1+5ZYvHA/eEs8n9Q7Z7GCoD2coPlGeG5BU806P7UAgjZbhBinuPNwPRpbELRTXHnN1sgugiaNWx6xQtt3a3CmMMJCmxe02aS8/TgI2o9qIomvpeajR9yF9WPqrAiQPIrKPvLLjJ+1+67jCh5O/yzHBCuzvScXnc33wn8/QTPPFJNnq53vdhsErRNgCNrPETR+hqD8+rH/UN9JEWJbtUfIbez3aqpdPdwlphz71+eNfm/OEbTILovS6mc1ngD/wwStruJsYkgQ6tWcJS8nNq02zOqhEt95YK8R1EyyUnx9gdEKU88txVRXPXo+Eejqdx2X9umxZfXqPMSWyF/J2/1EDses7XUPC558IndTaK5dwoViM3li7Gq8GiuDZx5rzufiI9v23GBRYOdcveJU3PGKvyn86kObW+tritVyo48159zh7OomUx4MbeeQurH7TS68uLfal/ETfNif1TkSf6Nc1bw0/F2KgXNb+Or1A7bR5nv8W2hUy/tjnuaRmnfrcRA/+Sh5EXyXthvjP/BvVR5X2jlU0ESQJFHd+3LrQidDNw9FpCVxcgkcFV1fNPRjkIoEPF/xvQDdnxsmrGmgynZ5OriKj+13AsA2tB8PEbjDySF2mrNpVJITnScVzwaC1hdxlDs1b8lJ3Zex6WLk4xlLwZztp0VHGe9gIQKj8Oh9Vbfg1GLDGxdyRcfCOddXP5Rz8b3GO2VP297s9X35Kf5yjFbwCTOdk/Wxjjjg5STts36Qn5Ujuv5KDJth2cbo+RjOyTiu9m9H/ENfd8DrKYImhekTjUhTExI1TzuuksC3S8epEZhGPGjANRnsR2l2Ml/sRz2XxwakyeNcIvYN1Y9thQ+KRG6hjHxU58rvsrmFP8CT5jT4s0jUnAfxDOx2WLOveb6SM2M32xNf6FgVM8qZ9de+p3mDPNnfpprFVuMsr7Ov/Ptt+rUcn9yS/+3dhHIVY/2dtEkYMH5K6KOcuPud3ArX6Zab5Enqbn4rdrq7H7KALvxYtkn949iFBOVsbk7y7w6sdsTfzfcqbi3nReY4VtCa1a1pLiVA2xwiIYmDHBFYrgp1Ix6OL34Fv3HVNePYL29uSUTadn50DXAWs4EPKh65dVmFRH5HaqIgOt/UnE5xSJy+IJi4ovNHczZxWV84Hj5fRKv1xfjA9toxlpt1Hps7+z7Hf4//Kq5sU34n7F7hUPYkJ9tsCT9ZrK622eS8zUWbg4r57BxuLpr8PnYFOOvHveMo/glBY37pep6ec0f8p33YgJvHCpo0lFSM8loK1G5LwW4saPL5R7FPxaMFLicg8q9bzbXFN0we2+zmkkQ2pGJx0fNFPgl2Jab5om+LnbD2CqJppjLfHb9Y7TenFkMaE11F6F+ZnogzY0bNINm9/v28Xfg2YJ6n4Nv6IHls/aUx9YrG+FhsOYuTlOOl/AsPwq3MP7HgCG1MYHbXuezbHRzMWAv3/3zeroZXbQ7W+99y3Dk/z61yeW8Md+Hm+GPsUPzLgkY1eic3dsRfaumI7bGCxsShhu43kD7orQXNXIVknwwJRDgMsf3CmI1jpqFpW5646OPLhdBj6ZwjRP6f+NcXDhWK2T9qztqmW5wGb3uVOzh/KiY9p/KTPhclXBMHc1wlxz62bTNlLpZzHDx5bpcrypfVcchC7Otyu3zdf0VB8ajmrRYn38+85Sg15/jgYqlzvPB6zfl5bMJkIsfrcxjzZWRrStAYP28xOrJdju2If5ljIU9bjDtQ0LgZlA/JZ5sDj1Or36XAlwlMzatvakS4iEC+3dk4RDDGVxh57hRrJpgREWlqmxYb+Z8KoczdEI+w6gqcC8C92hwIEmFrBC2Pr9/qevxKRjcOyXXa0rzZh8tHFrTaAGhcfa+5UP31OaDno9fuuBFmDea9PcKN+WDxWjh3qV62OR7wRPtWmmbFs84d1ZGfl3pej5U95uZC+2Vej8bnY47o2jm3fN/k3vgq85BfHq4aH8bYXAGTjf3wFx+P2B4kaAGQU4XJ524qaLI6v9wuHjk7v6r/8vmLTs40yWcaWh5zvV0uV3+V2PmmCXvf61wwvPLvBUpiV8XCPqRbb/34Xzf6wogVY/aNzy3nKVtaTKYxDQq85kf8V6vu0li1/37jpGaiYpdzFxYV2X/L2Zn8e/E4Od8On/s4U/GV85cFjbCkq8OSfx2v5YYs4CyO+pyJ124u8nmJGyq3ed8oDj5m/i2nx0Iw2Wa7KGjMK10/rk/C3egKdCf8XV8m8nbPefsJWnMrQzUTG4gGuZyjmyE3pAVS62Kxn3G4iZZGGti19lIBjgujvY1T56xFYP36Llermvi1AbtFn/BbxEzbm3hd7NnilnNNDAkzPqf4WGy0OOSYDcYttmlOirliRvO249iusTVDemr+WrwEY80zitH3weJi8GDeFiy8L/iovOlxi/4XXCMfdAySr6O2Pg7C8y7OMBblr9Sl9II78p0wdbnDNtsc9zG0x5VvkldvEWz72oPvR/7bRfX84kZ4r2uhjU++vSw5tHMt8vXBuB+1v4ugPeoUzjckezJJkA/kAxwAB96BAxA0iMXPeUwTco1cgwOn5gAEDQQ/NcHfYVUJH3H1Aw5swwEIGgQNggYOgAPgwCk4AEEDkU9BZKxwt1nhAkfg+M4cgKBB0CBo4AA4AA6cggMQNBD5FER+51UlfMdVETiwDQcgaBA0CBo4AA6AA6fgAAQNRD4FkbHC3WaFCxyB4ztzAII2LWj8X/YLjzyaJUP81JFtC0qekjF6+sGsz5uOm3lqxHRutsUsxSm4lScmbJT3TTF8Ij6IY3vOAdPHMYWgTTcFCNpMwU0L9QsLGonZMx8p9Xhhz+QKY4Dz2Tiwo6DV54bJKvflrhKmxSwR/z0F7WjCTgvaKuyPbDz8bD9ckW1/K7osYl5vsVCuyJ28l2PyfMlm+3qxHF3zrzTfToLGTcE8WDQ9cLN7YOnLNjbbRCFoM8Q9i6C99+LLcvfZ77l2vj5vH3+vt8d+d23jWMoT5tcvZN6f6xtj+QK9fBdBoydFz65c7NOu7VPFBXR7xefZt7b6MZmEaRVWVovxz1m4KzNnBTfT6N2nZxvBT3bsONtY6Xh9Qr1c/dqnYlvfu4UEx2/tVx8MdvYp6PqXAgyWxSdZyeo47Vh9jAuCfPd44DedJcxm8lPH0BweLnZMjdNgVfK4nKdqU3hut8JpO0e0357//Pcpn4In5crGYnwUjtxZa8uY8nx5HuGZz63QFvsocYXjXqDJ/yTfdhS0wU8USJIdUrjNTAjeNL/ft8/L5+232OKGqwkmjU4389rohcgiIrrI6oqy2H/glqMXU97XxCNfRKh+ieh6MaVmWvcPipGx0xgQwb0YU6Hzft1Mkg39XsZoUdNiZOKKCsrDII8tq2bT6PJ+nac5zKL56367WLI/gaPmnOSZcG86T8Jjbyv8VzkgTim/vPNecN+MoFXsVC3sHsughpy5vZqufDK8dc7H2H0w2kXQfv2S1WNqDDEp/YZG59ZmPfodMgHFacKZRH3TdhuBbfpO43Qb/QxRrW0+p4s9GEfFXTGUYrcC1dkT3wK7qaDc5jIY3xRhIDqhH+KP2sZj/ebSjQ98tZg1fqv5/f09/+q4eZ6tztOSXxpv/XrpPHNc/KpXl1q89xdIl3PGR1nIdb+Sbsdt+t7nXM299Jr6e4S6R7njNvVPzQ+74ee7OwkagW+Lp23CUeOwTSMapxLMjc0jGPlQBaFriokcpjG6Y+SqRK2SZ0hs55dz7BzROPvrzzRuReMxscn8tO2xDf2wRRTYtXG186mcyVfjg6u53o8VvroLknbu2K9+njJ2Bc9W58ni67zP2Mpt3JU8LDE4do88tgcu2/hPeZ8RUcpD7SnbzD/LT4wb4b2roNWJmSypGKUQuTn4K8V+XCuGJqlBc03z2wJyG6453x2zs6A1zUqaVtlWAbPxVIwNJtK4TGx2fBsrLSa8hUHkn81Lay/wiX0bjrV+Z5Fqm0jkE3GqYmZjHr9fFjQbc7Jn82Lfj+cc41TPlTpqcajHZ+1sOI7z1NZx7N8+uGwRz6SgcbxejTw1D1LvP3x7kKAR4agBSaMZNI4mKRPjbPNT51MB1QJzm6g53x2zs6BZP6PiWN0QTGydXX01k8dKfmqTaPPG+wO7PnbVlp5/PLa9Us9jZTHE+Z3FTM+5/HrAtyDmZNP6sjpPirO+j4zH1+V2+fq+2S8B+ef0uJNf+jajft3nftbu7LjtceljnPWlHTcnaFQLtZ+0NrbyBXbuxfWJgtY2rDgAKWT1BZCu+CNb/X63iZpGZZtT9o0/tyhXmJ0PAQm1YMg5PF/TlLxxMl5tVzcEE1uPM2GUVpzZdncLMCj0wK6LnfJfz+/mQo/NmKTmQT50V0aTmOk5l18PBC1c1PQ8W50nHbfzurGX49ZfCgq459hZjn9fW00ckX9SH2YBs6/vAc+1j+wXrs725cgjed5F0D4uzkrPI+lsYfK4Vkz8bznqpucVj9tEbXO2xM3vr7drWhmvLjJbKNwwv65mlc1NcfAlmpRoL6YhAWxsukD5dbbJK3+NH9l1/JJ8fDvfZJ3N6cJnaDQ3YXW5XAxWUlCOb058Q3y68Zyfv7/9D545Po2TlxNv3zo/JMZfN/octRUwulJw6qyLR9l5gWMzuNCY8RfK7sYyxMDWaY8bYY6rs+2x77G+d45dBK18I7B8BkS3NXQTKA5zw23vwTuF2o1zxqhGS/Z68k0JWiJ9Y4vs5HNXC1r90on+bCcXbXc1JF9D17eBWhGdaQjtt0yNLU8wC7Y9XpQnLnbJZ/J7IJS1IfHcKs7umNhs/g2hEpyaSNvMC3e4OcmYhkP35CnbWxC0jhspxh63uTzVOG1M5X2YG8mJUweMSzT4LE8AAA/FSURBVLHx5PejnDd3KcRPifnuHE7gmucSDG2N0PumXx3m06zvGOfxeydBA9ge2NgHXoAD4AA4sB8HIGiyKsTWv8UGXIALOAAOvAkHIGhvkiis6vZb1QFbYAsOnIMDEDQIGlaf4AA4AA6cggMQNBD5FETGCvscK2zkEXl8hAMQNAgaBA0cAAfAgVNwAIIGIp+CyI+s6nAurgrAgXNwAIIGQYOggQPgADhwCg5A0EDkUxAZK+xzrLCRR+TxEQ5A0KYFrX9e3yPAu08smfZlnvTyFI2Xe/6cPHnBecrGI7huda7gVp4+svtTK+ZzulWMsAPMz8YBCNq0iEDQZsg/LdQvLGgkZq//SKmZfGAMROsncWBHQZMHx9bnpL3cVcK0mKWieE9BO5rM04K2CvsjmxI/3w9XZNO3ortnNb4Idp1f6pmiR9cF5jumhncSNG4KhkCJYM0DP1+2qXngQ9BmivIsgvbeiy+Pv/vs665m5cr7yaKWxazpP35PmuE0xuzDnT1w3UXQaGU0e8vGPvG6f3I5BW6v+Dz71lY/JhdgKjYpPH7auye0VKz1CjN/nnJnoXarxTRvU3BEGjvONlY6njAyeBhb1vcuPo7f2k9Yu/lrfn0gYaLyZLAsnzvJk/S1b3asPsYLHPJd2S8LH86vycESZusKh+bwcKl2lnk2m6dqM2oaMpflcrQ/srPDfs5lx63MFetvmp99dnK+jMPj/ru8Ltx63P4RMWCOcZ52FDTnt7IseZym6jYzaYJNIfi/h6YbkTQ6XXC10deG2ROdxcLOd9fvoclPwtT5EimzH419Z5yDj8SURKPGyo3CNPpM/qjpiCAaH9xbq8lGY1vEtI0piisqQg+DPJbFU+et7m8bZccXB7No/rpf4jGLFxHkbzUn+1axlwVAy/fVebK1od9zTPq3+Chu5Zcef9BritFyoGKpMar5Sxg/x+++zsfNsfID494Fi10ErazEckOwhK/k8BsaNWddDP64asdtwrmoe2FyG4Ft+u4Kk201jV37ELy2trnZdDEF42zTkEZpm31nT5paYDcR1C3wwfiG1IHohH6IP2obj/UFuhsf+Goxa/xW8/v7e/7VcREHep6tztOSXxpv/XrpPHNc/OquonOtrhOaLh98BXb9+3H7dBd/nNduERXUjvG95uG+8dlffWdhY/uP+ofz78urxm0nQSPHbPG0TThqHLZpRONU8NzYtAhKkLa59UVYf4BT/HPHyBXNSkGz84tfdo5oHP3QaG00NK6+F3vhNmj6NL7HNvTDFn9g18YV+hVcpcr43o8VvroLEsUXG0vzvp9HfJLb1DM8W52nxgff14ytXDWu5GGJYWKe2bFNrhvMbQ378czOs8k4XgToq9xN7G6IJ/x5nCe7ClpNEDWJ5jMoboj+SlH9SnPQOKvtXpD0MdtYmiIUMpo53DE7C1rTrKRplW0VMBuPjtV9bWKzY9pYqRF5DTvyTxYBYre1NybocKz1Ozek9mo/8ok4VTET3+a2y4JmY052bV7s+7m5x3jVOx8tDtvYXpq7Py75+/h7bT9TvbNWdotDxOxJV4a7xSX9C9vyjdyDBI2KgRqQNJpB42gSNDHONj91PjWW2gCkCH+rMbLylkbljrmzSO38Qm47RzROxst2daMcYJNt6pV1Hiv5qQ2szRvvD+zauMRvbzse267y81hzVTKLmTd3vG/AtyDmZMv6sjpPmo/ua8bj63K7pNt5dzZn8mvis0LXh8qJGrPnywDDCbtxbtr5p8ZxzpovMR3tA+YrgjOVswfweqKgtQ0rDlQK+fPWiFATdGSr3+82UdOobHPKvskqzzTV2G8uPi0Y4rMUmW5K3jgZr7arG6WJrfeXMEpXZdm29inPS82pu1UT2HWxU/7r+d1c6LEZk7QYIR9kwVFsTGJWxmvb4etRM+75RLb7/avzFPpDPGrs5bj1l4LuaPQL801hFnDA3iavtphLHcd28l/qDJ+bHSYoNdc75XSBt7sI2selX+XLVVDTGGcLk8c156YrposSOR6jm17TBBgIt4nawuT35dZbfn+9Xd0PupcSZwWBG+bX1ayyuSkuFJ8X05BENjaHENkmr/w1fmTX8Uvy8d1+sy+Pn83pwmdoNDdhdblcDFaCueObE98Qn2485+fvb78JTPJsdZ46PyTGXzcSiFbAMo+f9G1BjSf5Ue+ASJ2X2tFxFd44/UGP2+I18x5XZopHW+D64jZ2EbTyrcPyGRDd4uibZf38q/0szSF8IajcLnHGlIKRMarQOBFTgpbGNrbITj537RVastX4Tn6TiChB1v4Z3LSQzzVKFlFrJ7/vMan+OceyX8ZeWmEPhJJ8lBy0t6S6Y8pHrwlSw2ybuW6o6bWMaTh0T55UrJ4vZd6GGynOHre5PE00m8IdO4fkxKkD5lLxd+f3Fv8YO/b5gCs061PDjQPmPwp7zNPW0E6C1k4C0IEHOAAOgAPgwN4cgKDtvHrdO4GwjyYBDoAD4ABxAIIGQfM/KwIuwAUcAAfejAMQtDdLGFZiWI2DA+AAOOBzAIIGQcMqFBwAB8CBU3AAggYin4LIWLH6K1bgAlx+EgcgaBA0CBo4AA6AA6fgAAQNRD4FkX/SKhSx4qoLHPA5AEGbFrT+8UaPkCr/4+cB/+Ap/2Aa/7OrT4xHYps6N/yH4Sf5Y3gguJV/yL37H7VfI56pnBgMcA5y924cgKBNFzEEbYbc00L9woJGYvb8J3DM4I0xEB1woHJgR0GT5+zVRyC93FXCtJglwN5T0I4m+7SgrcK+Enb/ePjxTLgiW3UrulzRvhpuZeHUL1BGj2FLV+buo/pelrdH1sjrzrWToPnPbEsEel+SQNBmxOQsgvbei68DGw4/1/Ly59UWAlyvX583+r22XtAiPpPQ2WdnHogpRHPVYkrncRdBW/dgVi6E8pDaiEj2is8jqLXVj8kNN60iy8qNriA9oS2rzuKb+uHRlaRzV4POZ2h2nG2stdgMHsaW9b2Lj+O39hM53PyNHshrsCyfOwlu2jc7Vh9jTMl3jwd+01zCTBN++TXN4eFSz13m2Wyeqs2oYcpclsvR/sjODvtzLiVP7M/wCo3HODlfxmGd/4lDkkOXz2H9zsSxzpetY4O9GP8dBW3ikt1pqm4zkybYFIL/8zFC4pR0aXS6mddGL4Uo43TDqKu7+htsvG9YsD7QXkx5XxOPPDW++iWi68WURKPuHxQhY6cxoILwYkz+O3EmG03cPMZ5yrwXV1SA4diy6jd45v06T3OYRfPX/RJPvT3eirKak32r2At/Wr4L96bzFDZY9WsNKgfEKeXX6PxDjg04KPOXRdGxfq8RtDVjK38MTyVebO++0roX210Erf5UvP/TGuKs39CoMHTD8MdpEjlNOJOJ9yvhcBuBbfpO43Qb/QxhrW0+p4spGEcFVkVOGqUVqM6e+BbYTTlwi3cwXvKWt9ycpv0Qf9Q29Jl/0FP/bE6asxsf+Goxa/xW8/v7e/7VcfM8W52nJb803vr10nnmuPjVCrYI+SNCMyFokldVjxVbXc/bvnZ5bnAhP2Zi2Na3I+L/SXPsJGiUdFs8bfOLGodtGtE4RSxubFoEJYnkQxWErikmYpvG6I7xrlzcolB+FdGo84tfdg7rp4yzv/47X5zsh4mt2M2+99iGfthYA7s2rna+FpvR2N6PFb66C5J27tivfp4ydgXPVufJ4uu8z3jJbVx1tVb8c8457hjhZhchx80f53c2F7PjXiEm+ODne1dBq6Az2VMxSiFyc/BXiv24VgxNMEFzTfNbkrpN1JzvjtlZ0JpmJU2rbOvK2cZTMTaYSHMzsdnxbay0mPAWBpF/Ni+tvcAn9m041vqdRapdGEQ+EacqZjbm8ftlQbMxJ3s2L/b9eM4xTvVcqaMWh3p81s4e495d0F7X/9fI7x6c2d7mQYJGjlMDkkYzaBzSjPN2Ypxtfup8aiy1AbhN1JzvjtlZ0KyfEYlXN0oTW2dXX83ksZKfSrY2b7w/sOtjV23p+cdj2yv1PFYWQ5zfWcz0nMuvB3wLYk42rS+r86Q46/vIeHxdbpev9lfA/fE+5uSX3GK02z7387ZfVxBmcjEzZh4LH3ucvz8uTxS0tmHFyZZC/rzVL2hYYCJb/X63iZpGReSuIph9488tyhXmYgNiH7VgyDk837f+LMEbJ+PVdnXhmdh6nAmjdFWWbWuf8rxBowrsutgp//X8bi702IxJygP50F0ZTWKm51x+PRC0cFHT82x1nnTczuvGXo5bfynI1sMz3gc8aWLhMR3H9vW3wa7xR+ad8V3GYrtcQ8/DaBdB+7g4Kz1p4nqVPVuYPK4VE/9bjrrpeUR2m6htzvy+3HrL76+3a1oZa//d4rDJtMVC769f11sjaNIsnW8OagJ5Menj3Wsbm+Nztskrf40f2eJmrf2SfHj/fDqbU+9LHp1vhNXlcjFYCcaOb50NGTu75fz8/e1/Q4vj0zh5OfH2dbmZ9dXBNPP426mzWZubj7M8d/AuvDnW76VcLB2/O2+bY+xgijmaOt1F0Mo3AstnQHRrQzeBQhJuuO1naQ7hu3HOmFIwcivFXGVFTdRr+o0tspObyGpBq1860Z/t5CJyVqrUqMR/3qo554qPm4vBn+bvMZEvxXxr0WoKxdhLfnuY8Tnko4pBxdkdUz6WBYSaW/DwjgmHZEzDIYWZjJvbLgha8q3hRoqzx3QuTxMNqvDeziE5cepA4TcX84Qfrk3xQeVa5bOvdx6v+LCXfyOetQvJ43zaK1bYrfzdSdDqBAAbWIAD4AA4AA4cwQEImrvyBPmOIB/mAM/AAXBgSw5A0CBozT3oLckFW2hW4AA4cCQHIGgQNAgaOAAOgAOn4AAEDUQ+BZGPXAViLlx1gAOvyQEIGgQNggYOgAPgwCk4AEEDkU9BZKyYX3PFjLwgL0dyAIIGQYOggQPgADhwCg5A0EDkUxD5yFUg5sJVBzjwmhyAoEHQIGjgADgADpyCAxA0EPkURMaK+TVXzMgL8nIkByBoEDQIGjgADoADp+AABA1EPgWRj1wFYi5cdYADr8kBCBoEDYIGDoAD4MApOABBA5FPQWSsmF9zxYy8IC9HcgCCBkGDoIED4AA4cAoOQNBA5FMQ+chVIObCVQc48JocgKBB0CBo4AA4AA6cggP//Otf/7rhDxiAA+AAOAAOvDsH/vn3v/99wx8wAAfAAXAAHHh3Dvzzn//854Y/YAAOgAPgADjw7hz457///e8Nf8AAHAAHwAFw4N05gC+F4MPgU3wYjG+dvea3zpAX5OVIDkDQIGgQNHAAHAAHTsEBCBqIfAoiH7kKxFy46gAHXpMDEDQIGgQNHAAHwIFTcACCBiKfgshYMb/mihl5QV6O5AAEDYIGQQMHwAFw4BQc+D+n3PbDjrxrFgAAAABJRU5ErkJggg==)"
      ],
      "metadata": {
        "id": "Q54zKs4Jj9EK"
      }
    },
    {
      "cell_type": "markdown",
      "source": [
        "## Conclusion\n"
      ],
      "metadata": {
        "id": "ZP14wNPZi_mv"
      }
    },
    {
      "cell_type": "markdown",
      "source": [
        "1.\tThe script successfully computes the first derivatives of the function f(x) at specified points using PyTorch's automatic differentiation.\n",
        "\n",
        "2.\tAfter that, it computes the second derivatives manually for comparison.\n",
        "\n",
        "3.\tThe manual calculation matches the values obtained through auto grad, to conform the correctness of the derivatives that is computed by PyTorch.\n"
      ],
      "metadata": {
        "id": "01zuSKUyjE98"
      }
    },
    {
      "cell_type": "markdown",
      "source": [
        "##Overall Report"
      ],
      "metadata": {
        "id": "jVhHvYLErz7f"
      }
    },
    {
      "cell_type": "markdown",
      "source": [
        "***Summary***\n",
        "\n",
        "In this python script we have defined a function f(x) and compute its derivative by using PyTorch’s autograd feature. After that we manually calculate the second derivative of function to compare with previous value.\n",
        "\n",
        "***Explanation:***\n",
        "\n",
        "1. First of all we have import the torch library for numerical computations by tenors.\n",
        "\n",
        "2. Then, we create function f(x) to represent the mathematical statement 5𝑥3 + 2𝑥 + 7.\n",
        "\n",
        "3. For the value of x, we define three values. They are x: -1, 0, and 1.\n",
        "\n",
        "4. Iterate each value of x in x values.\n",
        "\n",
        "  a. The loop creates a PyTorch tensor x_value from the current value of x, with requires grad=True to track gradients.\n",
        "\n",
        "  b. After that by using stated function, we get y=f(x).\n",
        "\n",
        "  c. Then, we calculate the gradient of y with respect to x by using y.backward ().\n",
        "\n",
        "  d. Lastly we print the derivative value at the current x value.\n",
        "\n",
        "5. After the loop, we manually compute the second derivative for each value of in x_values and then print the results.\n",
        "\n",
        "Note: The second derivative of the function f(x)=5x3+2x+7 is f′′(x)=15x2+2.\n",
        "\n",
        "\n",
        "***Conclusion***\n",
        "\n",
        "1. The script successfully computes the first derivatives of the function f(x) at specified points using PyTorch's automatic differentiation.\n",
        "\n",
        "2. After that, it computes the second derivatives manually for comparison.\n",
        "\n",
        "3. The manual calculation matches the values obtained through auto grad, to conform the correctness of the derivatives that is computed by PyTorch"
      ],
      "metadata": {
        "id": "4hLfK4c1r9Bk"
      }
    }
  ]
}